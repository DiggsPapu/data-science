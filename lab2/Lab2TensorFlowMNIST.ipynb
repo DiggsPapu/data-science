{
  "cells": [
    {
      "cell_type": "markdown",
      "metadata": {
        "id": "view-in-github",
        "colab_type": "text"
      },
      "source": [
        "<a href=\"https://colab.research.google.com/github/DiggsPapu/data-science/blob/lab2/Lab2TensorFlowMNIST.ipynb\" target=\"_parent\"><img src=\"https://colab.research.google.com/assets/colab-badge.svg\" alt=\"Open In Colab\"/></a>"
      ]
    },
    {
      "cell_type": "markdown",
      "metadata": {
        "id": "Lwz0Gdt9FfOD"
      },
      "source": [
        "# Red Neuronal Profunda (DNN) para clasificación MNIST\n",
        "\n",
        "Aplicaremos todos nuestros conocimientos para crear una DNN, frecuentemente llamada también una Artificial Neural Network (ANN).  El problema que vamos a trabajar se conoce como el \"Hola Mundo\" del aprendizaje profundo porque para la mayoría de estudiantes este es el primer algoritmo de aprendizaje profundo que ven.\n",
        "\n",
        "El conjunto de datos se llama MNIST y se refiere al reconocimiento de dígitos escritos a mano.  Pueden encontrar más información en el sitio web de Yann LeCun (Director of AI Research, Facebook).  El es uno de los pioneros de todo este tema, así como de otras metodologías más complejas como las Redes Neurales Convolucionales (CNN) que se utilizan hoy día.\n",
        "\n",
        "El conjunto de datos tiene 70,000 imágenes (28x28 pixels) de dígitos escritos a mano (1 dígito por imagen).\n",
        "\n",
        "La meta es escribir un algoritmo que detecta qué dígito ha sido escrito.  Como solo hay 10 dígitos (0 al 9), este es un problema de clasificación con 10 clases.\n",
        "\n",
        "Nuestra meta será construir una RN con 2 capas escondidas."
      ]
    },
    {
      "cell_type": "markdown",
      "metadata": {
        "id": "oR3M8FPeFfOE"
      },
      "source": [
        "## Importar los paquetes relevantes\n",
        "\n",
        "TensorFlow incluye un proveedor de datos de MNIST que utilizaremos acá.  Viene con el módulo **\"tensorflow.keras.datasets\"**."
      ]
    },
    {
      "cell_type": "code",
      "execution_count": 58,
      "metadata": {
        "id": "h5vHsqt1FfOE"
      },
      "outputs": [],
      "source": [
        "import numpy as np\n",
        "import tensorflow as tf"
      ]
    },
    {
      "cell_type": "markdown",
      "metadata": {
        "id": "pHhA4O9kFfOF"
      },
      "source": [
        "La siguiente instrucción, cuando se corre por primera vez, descarga el conjunto de datos en lo indicado por el parámetro path, relativo a  ~/.keras/datasets).  Como si se hubiera ejecutado Lo siguiente:\n",
        "\n",
        "tf.keras.datasets.mnist.load_data(\n",
        "    path='mnist.npz'\n",
        ")\n",
        "\n",
        "luego separa los datos en un conjunto para entrenamiento y otro para pruebas.\n",
        "\n",
        "Si se ejecuta más de una vez, ya no descarga el archivo."
      ]
    },
    {
      "cell_type": "code",
      "execution_count": 59,
      "metadata": {
        "id": "iO8WvwmjFfOF"
      },
      "outputs": [],
      "source": [
        "(X_entreno, y_entreno), (X_prueba, y_prueba) = tf.keras.datasets.mnist.load_data()\n",
        "assert X_entreno.shape == (60000, 28, 28)\n",
        "assert X_prueba.shape == (10000, 28, 28)\n",
        "assert y_entreno.shape == (60000,)\n",
        "assert y_prueba.shape == (10000,)"
      ]
    },
    {
      "cell_type": "markdown",
      "metadata": {
        "id": "hD3hfc8nFfOF"
      },
      "source": [
        "## Datos\n",
        "\n",
        "Esta sección es donde pre-procesaremos nuestros datos."
      ]
    },
    {
      "cell_type": "markdown",
      "metadata": {
        "id": "O4bwdG3_FfOF"
      },
      "source": [
        "Por default, TF2 tiene conjuntos de datos de entrenamiento y de prueba, pero no tiene un conjunto de validación, por lo que debemos dividirlo por nuestra cuenta\n",
        "\n",
        "Lo haremos del mismo tamaño que el conjunto de prueba"
      ]
    },
    {
      "cell_type": "code",
      "execution_count": 60,
      "metadata": {
        "id": "0OCSzwihFfOG"
      },
      "outputs": [],
      "source": [
        "num_obs_validacion = y_prueba.shape[0]"
      ]
    },
    {
      "cell_type": "markdown",
      "metadata": {
        "id": "rk579fxZFfOG"
      },
      "source": [
        "Usaremos una variable dedicada para el número de muestras de prueba"
      ]
    },
    {
      "cell_type": "code",
      "execution_count": 61,
      "metadata": {
        "id": "gmMss_V-FfOG"
      },
      "outputs": [],
      "source": [
        "num_obs_prueba = y_prueba.shape[0]"
      ]
    },
    {
      "cell_type": "markdown",
      "metadata": {
        "id": "f8Ieej7eFfOG"
      },
      "source": [
        "Generalmente preferimos \"normalizar\" nuestros datos en alguna forma para que el resultado sea numéricamente más estable.  En este caso simplemente preferimos tener entradas entre 0 y 1, por lo que definimos una función, que reciba la imagen MNIST.\n",
        "\n",
        "Como los posibles valores de las entradas son entre 0 y 255 (256 posibles tonos de gris), al dividirlos por 255 obtenemos el resultado deseado."
      ]
    },
    {
      "cell_type": "code",
      "execution_count": 62,
      "metadata": {
        "id": "HUGTBTcpFfOG"
      },
      "outputs": [],
      "source": [
        "X_entreno_normalizado = X_entreno / 255"
      ]
    },
    {
      "cell_type": "markdown",
      "metadata": {
        "id": "i-2K8y4kFfOG"
      },
      "source": [
        "Finalmente, normalizaremos y convertiremos los datos de pruebas en tandas.  Los normalizamos para que tengan la misma magnitud que los datos de entrenamiento y validación.\n",
        "\n",
        "No hay necesidad de \"barajearlo\" ya que no estaremos entrenando con los datos de prueba.  Habra una sola tanda, igual al tamaño de los datos de prueba."
      ]
    },
    {
      "cell_type": "code",
      "execution_count": 63,
      "metadata": {
        "id": "zYLBgv2aFfOG"
      },
      "outputs": [],
      "source": [
        "X_prueba_normalizado = X_prueba / 255"
      ]
    },
    {
      "cell_type": "markdown",
      "metadata": {
        "id": "DCjWgohXFfOG"
      },
      "source": [
        "Una vez se han \"normalizado\" los datos, podemos proceder a extraer los datos de entrenamiento y de validación.\n",
        "\n",
        "Nuestros datos de validación serán 10000 para ser igual al conjunto de prueba.\n",
        "\n",
        "Finalmente, creamos una tanda con un tamaño de tanda igual al total de muestras de validación."
      ]
    },
    {
      "cell_type": "code",
      "execution_count": 64,
      "metadata": {
        "id": "FPGmRCsJFfOG"
      },
      "outputs": [],
      "source": [
        "X_validacion = X_entreno_normalizado[-num_obs_validacion: , : , : ]\n",
        "y_validacion = y_entreno[-num_obs_validacion:]"
      ]
    },
    {
      "cell_type": "markdown",
      "metadata": {
        "id": "oJ8vJVNcFfOG"
      },
      "source": [
        "Similarmente, los datos de entrenamiento son todos los demás por lo que nos salteamos tantas observaciones como las hay en el conjunto de validación."
      ]
    },
    {
      "cell_type": "code",
      "execution_count": 65,
      "metadata": {
        "id": "_IffZ1vXFfOH"
      },
      "outputs": [],
      "source": [
        "X_entreno = X_entreno_normalizado[ : X_entreno_normalizado.shape[0] - num_obs_validacion, : , : ]\n",
        "y_entreno = y_entreno[ : y_entreno.shape[0] - num_obs_validacion]\n",
        "num_obs_entreno = y_entreno.shape[0]"
      ]
    },
    {
      "cell_type": "markdown",
      "metadata": {
        "id": "VzxOAg4sFfOH"
      },
      "source": [
        "Convertir de Arreglos Numpy a Tensores"
      ]
    },
    {
      "cell_type": "code",
      "execution_count": 66,
      "metadata": {
        "id": "BZ_1EJfOFfOH"
      },
      "outputs": [],
      "source": [
        "datos_entreno = tf.data.Dataset.from_tensor_slices((X_entreno, y_entreno))\n",
        "datos_validacion = tf.data.Dataset.from_tensor_slices((X_validacion, y_validacion))\n",
        "datos_prueba = tf.data.Dataset.from_tensor_slices((X_prueba, y_prueba))"
      ]
    },
    {
      "cell_type": "markdown",
      "metadata": {
        "id": "i9DgFDSaFfOH"
      },
      "source": [
        "Barajear y hacer tandas con el conjunto de datos de entrenamiento"
      ]
    },
    {
      "cell_type": "code",
      "execution_count": 67,
      "metadata": {
        "id": "MaPnF8uiFfOH"
      },
      "outputs": [],
      "source": [
        "TAMANIO_TANDA = 700\n",
        "datos_entreno = datos_entreno.shuffle(buffer_size = num_obs_entreno).batch(TAMANIO_TANDA)"
      ]
    },
    {
      "cell_type": "markdown",
      "metadata": {
        "id": "gcQ2QDMgFfOH"
      },
      "source": [
        "Hacer tandas con los conjunto de validación y prueba, no se necesita barajearlos"
      ]
    },
    {
      "cell_type": "code",
      "execution_count": 68,
      "metadata": {
        "id": "Z3qUn5sFFfOH"
      },
      "outputs": [],
      "source": [
        "datos_validacion = datos_validacion.batch(TAMANIO_TANDA)\n",
        "datos_prueba = datos_prueba.batch(TAMANIO_TANDA)"
      ]
    },
    {
      "cell_type": "code",
      "execution_count": 69,
      "metadata": {
        "colab": {
          "base_uri": "https://localhost:8080/"
        },
        "id": "AJHNPX61Frwn",
        "outputId": "519fb8a9-b5e6-41bd-a503-3bd82662b194"
      },
      "outputs": [
        {
          "output_type": "execute_result",
          "data": {
            "text/plain": [
              "(<_BatchDataset element_spec=(TensorSpec(shape=(None, 28, 28), dtype=tf.float64, name=None), TensorSpec(shape=(None,), dtype=tf.uint8, name=None))>,\n",
              " <_BatchDataset element_spec=(TensorSpec(shape=(None, 28, 28), dtype=tf.uint8, name=None), TensorSpec(shape=(None,), dtype=tf.uint8, name=None))>)"
            ]
          },
          "metadata": {},
          "execution_count": 69
        }
      ],
      "source": [
        "datos_validacion, datos_prueba\n"
      ]
    },
    {
      "cell_type": "markdown",
      "metadata": {
        "id": "8VXxRIh5FfOH"
      },
      "source": [
        "## Modelo"
      ]
    },
    {
      "cell_type": "markdown",
      "metadata": {
        "id": "INPywuFCFfOH"
      },
      "source": [
        "### Delineamos el modelo\n",
        "\n",
        "Cuando pensamos sobre un algoritmo de aprenzaje profundo, casi siempre solo lo imaginamos.  Asi que esta vez, hagámoslo.  :)"
      ]
    },
    {
      "cell_type": "code",
      "execution_count": 70,
      "metadata": {
        "id": "SMatlknIFfOH"
      },
      "outputs": [],
      "source": [
        "tamanio_entrada = 784\n",
        "tamanio_salida = 10"
      ]
    },
    {
      "cell_type": "markdown",
      "metadata": {
        "id": "QMycxa_WFfOH"
      },
      "source": [
        "Usaremos el mismo ancho para ambas capas escondidas.  No es una necesidad!"
      ]
    },
    {
      "cell_type": "code",
      "execution_count": 71,
      "metadata": {
        "id": "lHidaZbrFfOH"
      },
      "outputs": [],
      "source": [
        "tamanio_capa_escondida = 3000"
      ]
    },
    {
      "cell_type": "markdown",
      "metadata": {
        "id": "m8_DPAT8FfOH"
      },
      "source": [
        "# Definimos cómo se verá el modelo\n",
        "\n",
        "La primera capa (la de entrada):  cada observación es de 28x28 píxeles, por lo tanto es un tensor de rango 2.\n",
        "\n",
        "Como aún no hemos aprendido sobre CNNs, no sabemos como alimentar este tipo de entrada a nuestra red, por lo tanto hay que \"aplanar\" las imágenes.  Hay un método conveniente **Flatten** que toma nuestro tensor de 28x28 y lo convierte en  un vector (None), o (784,)...porque 28x28 = 784.  Esto nos permite crear una red de alimentación hacia adelante.\n",
        "\n",
        "    \n",
        "**tf.keras.layers.Dense** básicamente implementa:  output = activation(dot(entrada, peso) + sesgo).  Requiere varios argumentos, pero los más importantes para nosotros son el ancho de la capa escondida y la función de activación.\n",
        "\n",
        "La capa final no es diferente, solo nos aseguramos de activarla con **softmax**\n"
      ]
    },
    {
      "cell_type": "code",
      "execution_count": 72,
      "metadata": {
        "id": "f3P2I53wFfOI"
      },
      "outputs": [],
      "source": [
        "modelo = tf.keras.Sequential([\n",
        "\n",
        "    tf.keras.layers.Flatten(input_shape=(28, 28)), # capa entrada\n",
        "\n",
        "    tf.keras.layers.Dense(tamanio_capa_escondida, activation='relu'), # 1era capa escondida\n",
        "    tf.keras.layers.Dense(tamanio_capa_escondida, activation='relu'), # 2nda capa escondida\n",
        "    tf.keras.layers.Dense(tamanio_capa_escondida, activation='relu'), # 3ra capa escondida\n",
        "    # tf.keras.layers.Dense(tamanio_capa_escondida, activation='tanh'), # 4ta capa escondida\n",
        "    # tf.keras.layers.Dense(tamanio_capa_escondida, activation='relu'), # 5ta capa escondida\n",
        "    tf.keras.layers.Dense(tamanio_salida, activation='softmax') # capa salida\n",
        "])"
      ]
    },
    {
      "cell_type": "markdown",
      "metadata": {
        "id": "OI1MIJi1FfOI"
      },
      "source": [
        "### Seleccionar el optimizador y la función de pérdida"
      ]
    },
    {
      "cell_type": "markdown",
      "metadata": {
        "id": "TC0wGqM7FfOI"
      },
      "source": [
        "Definimos el optimizador que nos gustaría utilizar, la función de pérdida, y las métricas que nos interesa obtener en cada interacción"
      ]
    },
    {
      "cell_type": "code",
      "execution_count": 73,
      "metadata": {
        "id": "zdfydG9CFfOI"
      },
      "outputs": [],
      "source": [
        "modelo.compile(optimizer='adam', loss='sparse_categorical_crossentropy', metrics=['accuracy'])"
      ]
    },
    {
      "cell_type": "markdown",
      "metadata": {
        "id": "DUOb0mXoFfOI"
      },
      "source": [
        "### Entrenamiento\n",
        "\n",
        "Acá es donde entrenamos el modelo que hemos construído\n",
        "\n",
        "Determinamos el número máximo de épocas.\n",
        "\n",
        "Ajustamos el modelo , especificando:\n",
        "\n",
        "* los datos de entrenamiento\n",
        "* el número total de épocas\n",
        "* y los datos de validación que creamos en el formato (entradas, metas)"
      ]
    },
    {
      "cell_type": "code",
      "execution_count": 74,
      "metadata": {
        "colab": {
          "base_uri": "https://localhost:8080/"
        },
        "id": "N2uPUwi-FfOI",
        "outputId": "472e4dea-8ca4-46ea-87dd-ef7a2384a096"
      },
      "outputs": [
        {
          "output_type": "stream",
          "name": "stdout",
          "text": [
            "Epoch 1/5\n",
            "72/72 - 156s - 2s/step - accuracy: 0.8894 - loss: 0.3628 - val_accuracy: 0.9695 - val_loss: 0.1051\n",
            "Epoch 2/5\n",
            "72/72 - 151s - 2s/step - accuracy: 0.9760 - loss: 0.0774 - val_accuracy: 0.9745 - val_loss: 0.0872\n",
            "Epoch 3/5\n",
            "72/72 - 202s - 3s/step - accuracy: 0.9854 - loss: 0.0468 - val_accuracy: 0.9770 - val_loss: 0.0819\n",
            "Epoch 4/5\n",
            "72/72 - 205s - 3s/step - accuracy: 0.9893 - loss: 0.0326 - val_accuracy: 0.9733 - val_loss: 0.0955\n",
            "Epoch 5/5\n",
            "72/72 - 151s - 2s/step - accuracy: 0.9931 - loss: 0.0219 - val_accuracy: 0.9760 - val_loss: 0.0963\n"
          ]
        },
        {
          "output_type": "execute_result",
          "data": {
            "text/plain": [
              "<keras.src.callbacks.history.History at 0x7a5be3c6cdc0>"
            ]
          },
          "metadata": {},
          "execution_count": 74
        }
      ],
      "source": [
        "NUMERO_EPOCAS = 5\n",
        "\n",
        "modelo.fit(datos_entreno,\n",
        "          epochs = NUMERO_EPOCAS,\n",
        "          validation_data = datos_validacion,\n",
        "          verbose = 2)"
      ]
    },
    {
      "cell_type": "markdown",
      "metadata": {
        "id": "gBne73KxFfOI"
      },
      "source": [
        "## Probar el modelo\n",
        "\n",
        "Como se discutió en clase, luego del entrenamiento (con los datos de entrenamiento), y la validación (con los datos de validación), probamos el potencial de predicción final de nuestro modelo con el conjunto de datos de prueba que el algoritmo NUNCA ha visto antes.\n",
        "\n",
        "Es muy importante reconocer que estar \"jugando\" con los hiperparámetros sobre-ajusta el conjunto de datos de validación.\n",
        "\n",
        "La prueba es la instancia absolutamente final. Nunca debe probarse el modelo antes de haber completamente ajustado el modelo.\n",
        "\n",
        "Si se ajusta el modelo después de hacer la prueba, se empezará a sobre-ajustar el conjunto de datos de prueba, que echaría \"por los suelos\" el propósito original del mismo."
      ]
    },
    {
      "cell_type": "code",
      "execution_count": 75,
      "metadata": {
        "id": "Qp1tDEnwFfOJ",
        "colab": {
          "base_uri": "https://localhost:8080/"
        },
        "outputId": "d6304b01-b91d-451d-c4b7-b0c91ec6d434"
      },
      "outputs": [
        {
          "output_type": "stream",
          "name": "stdout",
          "text": [
            "\u001b[1m15/15\u001b[0m \u001b[32m━━━━━━━━━━━━━━━━━━━━\u001b[0m\u001b[37m\u001b[0m \u001b[1m9s\u001b[0m 574ms/step - accuracy: 0.9747 - loss: 19.4578\n"
          ]
        }
      ],
      "source": [
        "perdida_prueba, precision_prueba = modelo.evaluate(datos_prueba)"
      ]
    },
    {
      "cell_type": "code",
      "execution_count": 76,
      "metadata": {
        "id": "_eO61rB9FfOJ",
        "colab": {
          "base_uri": "https://localhost:8080/"
        },
        "outputId": "8db84fbb-676a-497e-e422-54310599a98d"
      },
      "outputs": [
        {
          "output_type": "stream",
          "name": "stdout",
          "text": [
            "Pérdida de prueba: 16.21. Precisión de prueba: 97.90%\n"
          ]
        }
      ],
      "source": [
        "# Si se desea, se puede aplicar un formateo \"bonito\"\n",
        "print('Pérdida de prueba: {0:.2f}. Precisión de prueba: {1:.2f}%'.format(perdida_prueba, precision_prueba * 100.))"
      ]
    },
    {
      "cell_type": "code",
      "execution_count": 77,
      "metadata": {
        "id": "B4t6tjTg-VWk",
        "colab": {
          "base_uri": "https://localhost:8080/"
        },
        "outputId": "cb9ed5e7-2537-4768-d8ff-012aa4e16479"
      },
      "outputs": [
        {
          "output_type": "stream",
          "name": "stdout",
          "text": [
            "Epoch 1/5\n",
            "\u001b[1m1875/1875\u001b[0m \u001b[32m━━━━━━━━━━━━━━━━━━━━\u001b[0m\u001b[37m\u001b[0m \u001b[1m6s\u001b[0m 3ms/step - accuracy: 0.7358 - loss: 1.0332 - val_accuracy: 0.9062 - val_loss: 0.3533\n",
            "Epoch 2/5\n",
            "\u001b[1m1875/1875\u001b[0m \u001b[32m━━━━━━━━━━━━━━━━━━━━\u001b[0m\u001b[37m\u001b[0m \u001b[1m9s\u001b[0m 3ms/step - accuracy: 0.9052 - loss: 0.3492 - val_accuracy: 0.9194 - val_loss: 0.2891\n",
            "Epoch 3/5\n",
            "\u001b[1m1875/1875\u001b[0m \u001b[32m━━━━━━━━━━━━━━━━━━━━\u001b[0m\u001b[37m\u001b[0m \u001b[1m6s\u001b[0m 3ms/step - accuracy: 0.9183 - loss: 0.2920 - val_accuracy: 0.9294 - val_loss: 0.2576\n",
            "Epoch 4/5\n",
            "\u001b[1m1875/1875\u001b[0m \u001b[32m━━━━━━━━━━━━━━━━━━━━\u001b[0m\u001b[37m\u001b[0m \u001b[1m5s\u001b[0m 3ms/step - accuracy: 0.9267 - loss: 0.2626 - val_accuracy: 0.9342 - val_loss: 0.2360\n",
            "Epoch 5/5\n",
            "\u001b[1m1875/1875\u001b[0m \u001b[32m━━━━━━━━━━━━━━━━━━━━\u001b[0m\u001b[37m\u001b[0m \u001b[1m6s\u001b[0m 3ms/step - accuracy: 0.9338 - loss: 0.2363 - val_accuracy: 0.9373 - val_loss: 0.2174\n",
            "Línea base - Precisión de validación: 0.9373000264167786\n",
            "Línea base - Tiempo de entrenamiento: 37.53990840911865\n",
            "Epoch 1/5\n",
            "\u001b[1m6/6\u001b[0m \u001b[32m━━━━━━━━━━━━━━━━━━━━\u001b[0m\u001b[37m\u001b[0m \u001b[1m1s\u001b[0m 167ms/step - accuracy: 0.0674 - loss: 2.3820 - val_accuracy: 0.0993 - val_loss: 2.3101\n",
            "Epoch 2/5\n",
            "\u001b[1m6/6\u001b[0m \u001b[32m━━━━━━━━━━━━━━━━━━━━\u001b[0m\u001b[37m\u001b[0m \u001b[1m1s\u001b[0m 117ms/step - accuracy: 0.1026 - loss: 2.3054 - val_accuracy: 0.1526 - val_loss: 2.2410\n",
            "Epoch 3/5\n",
            "\u001b[1m6/6\u001b[0m \u001b[32m━━━━━━━━━━━━━━━━━━━━\u001b[0m\u001b[37m\u001b[0m \u001b[1m1s\u001b[0m 131ms/step - accuracy: 0.1580 - loss: 2.2395 - val_accuracy: 0.2178 - val_loss: 2.1795\n",
            "Epoch 4/5\n",
            "\u001b[1m6/6\u001b[0m \u001b[32m━━━━━━━━━━━━━━━━━━━━\u001b[0m\u001b[37m\u001b[0m \u001b[1m1s\u001b[0m 112ms/step - accuracy: 0.2240 - loss: 2.1787 - val_accuracy: 0.2859 - val_loss: 2.1229\n",
            "Epoch 5/5\n",
            "\u001b[1m6/6\u001b[0m \u001b[32m━━━━━━━━━━━━━━━━━━━━\u001b[0m\u001b[37m\u001b[0m \u001b[1m1s\u001b[0m 119ms/step - accuracy: 0.2868 - loss: 2.1258 - val_accuracy: 0.3516 - val_loss: 2.0698\n",
            "\n",
            "Batch size 10,000 - Precisión de validación: 0.3515999913215637\n",
            "Batch size 10,000 - Tiempo de entrenamiento: 5.305534839630127\n",
            "Epoch 1/5\n",
            "\u001b[1m60000/60000\u001b[0m \u001b[32m━━━━━━━━━━━━━━━━━━━━\u001b[0m\u001b[37m\u001b[0m \u001b[1m131s\u001b[0m 2ms/step - accuracy: 0.8961 - loss: 0.3435 - val_accuracy: 0.9640 - val_loss: 0.1190\n",
            "Epoch 2/5\n",
            "\u001b[1m60000/60000\u001b[0m \u001b[32m━━━━━━━━━━━━━━━━━━━━\u001b[0m\u001b[37m\u001b[0m \u001b[1m153s\u001b[0m 2ms/step - accuracy: 0.9691 - loss: 0.1006 - val_accuracy: 0.9660 - val_loss: 0.1043\n",
            "Epoch 3/5\n",
            "\u001b[1m60000/60000\u001b[0m \u001b[32m━━━━━━━━━━━━━━━━━━━━\u001b[0m\u001b[37m\u001b[0m \u001b[1m132s\u001b[0m 2ms/step - accuracy: 0.9770 - loss: 0.0694 - val_accuracy: 0.9725 - val_loss: 0.0848\n",
            "Epoch 4/5\n",
            "\u001b[1m60000/60000\u001b[0m \u001b[32m━━━━━━━━━━━━━━━━━━━━\u001b[0m\u001b[37m\u001b[0m \u001b[1m140s\u001b[0m 2ms/step - accuracy: 0.9837 - loss: 0.0517 - val_accuracy: 0.9770 - val_loss: 0.0692\n",
            "Epoch 5/5\n",
            "\u001b[1m60000/60000\u001b[0m \u001b[32m━━━━━━━━━━━━━━━━━━━━\u001b[0m\u001b[37m\u001b[0m \u001b[1m153s\u001b[0m 2ms/step - accuracy: 0.9877 - loss: 0.0376 - val_accuracy: 0.9790 - val_loss: 0.0659\n",
            "\n",
            "Batch size 1 (SGD) - Precisión de validación: 0.9789999723434448\n",
            "Batch size 1 (SGD) - Tiempo de entrenamiento: 709.174076795578\n",
            "Epoch 1/5\n",
            "\u001b[1m1875/1875\u001b[0m \u001b[32m━━━━━━━━━━━━━━━━━━━━\u001b[0m\u001b[37m\u001b[0m \u001b[1m6s\u001b[0m 3ms/step - accuracy: 0.0888 - loss: 2.3806 - val_accuracy: 0.2002 - val_loss: 2.2274\n",
            "Epoch 2/5\n",
            "\u001b[1m1875/1875\u001b[0m \u001b[32m━━━━━━━━━━━━━━━━━━━━\u001b[0m\u001b[37m\u001b[0m \u001b[1m7s\u001b[0m 4ms/step - accuracy: 0.2443 - loss: 2.1910 - val_accuracy: 0.3727 - val_loss: 2.0611\n",
            "Epoch 3/5\n",
            "\u001b[1m1875/1875\u001b[0m \u001b[32m━━━━━━━━━━━━━━━━━━━━\u001b[0m\u001b[37m\u001b[0m \u001b[1m8s\u001b[0m 3ms/step - accuracy: 0.4015 - loss: 2.0316 - val_accuracy: 0.4981 - val_loss: 1.9128\n",
            "Epoch 4/5\n",
            "\u001b[1m1875/1875\u001b[0m \u001b[32m━━━━━━━━━━━━━━━━━━━━\u001b[0m\u001b[37m\u001b[0m \u001b[1m10s\u001b[0m 3ms/step - accuracy: 0.5168 - loss: 1.8879 - val_accuracy: 0.5885 - val_loss: 1.7759\n",
            "Epoch 5/5\n",
            "\u001b[1m1875/1875\u001b[0m \u001b[32m━━━━━━━━━━━━━━━━━━━━\u001b[0m\u001b[37m\u001b[0m \u001b[1m6s\u001b[0m 3ms/step - accuracy: 0.5998 - loss: 1.7576 - val_accuracy: 0.6576 - val_loss: 1.6488\n",
            "\n",
            "Learning rate 0.0001 - Precisión de validación: 0.6575999855995178\n",
            "Learning rate 0.0001 - Tiempo de entrenamiento: 37.85372281074524\n",
            "Epoch 1/5\n",
            "\u001b[1m1875/1875\u001b[0m \u001b[32m━━━━━━━━━━━━━━━━━━━━\u001b[0m\u001b[37m\u001b[0m \u001b[1m6s\u001b[0m 3ms/step - accuracy: 0.7906 - loss: 0.7997 - val_accuracy: 0.9170 - val_loss: 0.2989\n",
            "Epoch 2/5\n",
            "\u001b[1m1875/1875\u001b[0m \u001b[32m━━━━━━━━━━━━━━━━━━━━\u001b[0m\u001b[37m\u001b[0m \u001b[1m11s\u001b[0m 3ms/step - accuracy: 0.9165 - loss: 0.2909 - val_accuracy: 0.9322 - val_loss: 0.2442\n",
            "Epoch 3/5\n",
            "\u001b[1m1875/1875\u001b[0m \u001b[32m━━━━━━━━━━━━━━━━━━━━\u001b[0m\u001b[37m\u001b[0m \u001b[1m5s\u001b[0m 3ms/step - accuracy: 0.9328 - loss: 0.2372 - val_accuracy: 0.9397 - val_loss: 0.2081\n",
            "Epoch 4/5\n",
            "\u001b[1m1875/1875\u001b[0m \u001b[32m━━━━━━━━━━━━━━━━━━━━\u001b[0m\u001b[37m\u001b[0m \u001b[1m7s\u001b[0m 3ms/step - accuracy: 0.9441 - loss: 0.2006 - val_accuracy: 0.9457 - val_loss: 0.1862\n",
            "Epoch 5/5\n",
            "\u001b[1m1875/1875\u001b[0m \u001b[32m━━━━━━━━━━━━━━━━━━━━\u001b[0m\u001b[37m\u001b[0m \u001b[1m9s\u001b[0m 3ms/step - accuracy: 0.9499 - loss: 0.1755 - val_accuracy: 0.9495 - val_loss: 0.1681\n",
            "\n",
            "Learning rate 0.02 - Precisión de validación: 0.9495000243186951\n",
            "Learning rate 0.02 - Tiempo de entrenamiento: 42.08013558387756\n"
          ]
        }
      ],
      "source": [
        "# -*- coding: utf-8 -*-\n",
        "\"\"\"Lab2 DS.ipynb\n",
        "\n",
        "Automatically generated by Colab.\n",
        "\n",
        "Original file is located at\n",
        "    https://colab.research.google.com/drive/13FXF4kuaRooPwRQyD23hvvICtJGJ1dB_\n",
        "\"\"\"\n",
        "\n",
        "# Importar las bibliotecas necesarias\n",
        "import tensorflow as tf\n",
        "from tensorflow.keras.datasets import mnist\n",
        "from tensorflow.keras.models import Sequential\n",
        "from tensorflow.keras.layers import Dense, Flatten\n",
        "from tensorflow.keras.optimizers import SGD, Adam\n",
        "import time\n",
        "\n",
        "# Cargar los datos de MNIST\n",
        "(x_train, y_train), (x_test, y_test) = mnist.load_data()\n",
        "x_train, x_test = x_train / 255.0, x_test / 255.0\n",
        "\n",
        "# Crear el modelo base\n",
        "def create_model():\n",
        "    model = Sequential([\n",
        "        Flatten(input_shape=(28, 28)),\n",
        "        Dense(128, activation='relu'),\n",
        "        Dense(10, activation='softmax')\n",
        "    ])\n",
        "    return model\n",
        "\n",
        "# Compilar y entrenar el modelo con diferentes configuraciones\n",
        "def train_model(model, batch_size, learning_rate, epochs=5):\n",
        "    model.compile(optimizer=SGD(learning_rate=learning_rate),\n",
        "                  loss='sparse_categorical_crossentropy',\n",
        "                  metrics=['accuracy'])\n",
        "    start_time = time.time()\n",
        "    history = model.fit(x_train, y_train, epochs=epochs, batch_size=batch_size,\n",
        "                        validation_data=(x_test, y_test))\n",
        "    end_time = time.time()\n",
        "    training_time = end_time - start_time\n",
        "    return history, training_time\n",
        "\n",
        "# Línea base: Tamaño de tanda 32, tasa de aprendizaje 0.01\n",
        "model_base = create_model()\n",
        "history_base, time_base = train_model(model_base, batch_size=32, learning_rate=0.01)\n",
        "print(\"Línea base - Precisión de validación:\", max(history_base.history['val_accuracy']))\n",
        "print(\"Línea base - Tiempo de entrenamiento:\", time_base)\n",
        "\n",
        "# 6. Ajuste del tamaño de la tanda a 10,000\n",
        "model = create_model()\n",
        "history, training_time = train_model(model, batch_size=10000, learning_rate=0.01)\n",
        "print(\"\\nBatch size 10,000 - Precisión de validación:\", max(history.history['val_accuracy']))\n",
        "print(\"Batch size 10,000 - Tiempo de entrenamiento:\", training_time)\n",
        "\n",
        "# 7. Ajuste del tamaño de la tanda a 1 (SGD)\n",
        "model = create_model()\n",
        "history, training_time = train_model(model, batch_size=1, learning_rate=0.01)\n",
        "print(\"\\nBatch size 1 (SGD) - Precisión de validación:\", max(history.history['val_accuracy']))\n",
        "print(\"Batch size 1 (SGD) - Tiempo de entrenamiento:\", training_time)\n",
        "\n",
        "# 8. Ajuste de la tasa de aprendizaje a 0.0001\n",
        "model = create_model()\n",
        "history, training_time = train_model(model, batch_size=32, learning_rate=0.0001)\n",
        "print(\"\\nLearning rate 0.0001 - Precisión de validación:\", max(history.history['val_accuracy']))\n",
        "print(\"Learning rate 0.0001 - Tiempo de entrenamiento:\", training_time)\n",
        "\n",
        "# 9. Ajuste de la tasa de aprendizaje a 0.02\n",
        "model = create_model()\n",
        "history, training_time = train_model(model, batch_size=32, learning_rate=0.02)\n",
        "print(\"\\nLearning rate 0.02 - Precisión de validación:\", max(history.history['val_accuracy']))\n",
        "print(\"Learning rate 0.02 - Tiempo de entrenamiento:\", training_time)"
      ]
    },
    {
      "cell_type": "markdown",
      "metadata": {
        "id": "hkbD4WnIFfOJ"
      },
      "source": [
        "Utilizando el modelo inicial y los hiperparámetros dados en este notebook, la precisión de prueba final debe ser aproximadamente 97%.\n",
        "\n",
        "Cada vez que se ejecuta el código, se obtiene una precisión diferente debido a la \"barajeada\" de las tandas, los pesos se inicializan en forma diferente, etc.\n",
        "\n",
        "Finalmente, intencionalmente se ha llegado a una solución subóptima, para que puedan tener la oportunidad de mejorarla como ejercicio de laboratorio."
      ]
    }
  ],
  "metadata": {
    "colab": {
      "provenance": [],
      "include_colab_link": true
    },
    "kernelspec": {
      "display_name": "Python 3 (ipykernel)",
      "language": "python",
      "name": "python3"
    },
    "language_info": {
      "codemirror_mode": {
        "name": "ipython",
        "version": 3
      },
      "file_extension": ".py",
      "mimetype": "text/x-python",
      "name": "python",
      "nbconvert_exporter": "python",
      "pygments_lexer": "ipython3",
      "version": "3.11.5"
    }
  },
  "nbformat": 4,
  "nbformat_minor": 0
}